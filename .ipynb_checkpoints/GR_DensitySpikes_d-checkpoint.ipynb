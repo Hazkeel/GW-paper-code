{
 "cells": [
  {
   "cell_type": "markdown",
   "metadata": {},
   "source": [
    "# Imports"
   ]
  },
  {
   "cell_type": "code",
   "execution_count": 3,
   "metadata": {},
   "outputs": [],
   "source": [
    "# System\n",
    "import sys\n",
    "\n",
    "# Plotting \n",
    "import matplotlib as mpl\n",
    "import matplotlib.pyplot as plt\n",
    "\n",
    "# math and array tools \n",
    "import numpy as np\n",
    "import pandas as pd\n",
    "from scipy import interpolate\n",
    "from itertools import permutations\n",
    "\n",
    "# Access local directories\n",
    "import os, glob\n",
    "\n",
    "# Timing\n",
    "import time as t"
   ]
  },
  {
   "cell_type": "markdown",
   "metadata": {},
   "source": [
    "# Density Profiles"
   ]
  },
  {
   "cell_type": "markdown",
   "metadata": {},
   "source": [
    "## Global Varibles"
   ]
  },
  {
   "cell_type": "code",
   "execution_count": 4,
   "metadata": {},
   "outputs": [],
   "source": [
    "# unit conversions\n",
    "hz_to_invpc = 1.029e8\n",
    "s_to_pc = 9.716e-9\n",
    "m_to_pc = 3.241e-17\n",
    "solar_mass_to_pc = 4.8e-14\n",
    "g_cm3_to_invpc2 = 7.072e8\n",
    "year_to_pc = 0.3064"
   ]
  },
  {
   "cell_type": "markdown",
   "metadata": {},
   "source": [
    "## Generic Density Distribution"
   ]
  },
  {
   "cell_type": "code",
   "execution_count": 5,
   "metadata": {},
   "outputs": [],
   "source": [
    "scale = {'a':0.01, 'rho0':0.3}\n",
    "NFWparams = {'alpha':1,'beta':3,'gamma':1}\n",
    "Hernquistparams = {'alpha':1,'beta':4,'gamma':1}"
   ]
  },
  {
   "cell_type": "code",
   "execution_count": 6,
   "metadata": {},
   "outputs": [],
   "source": [
    "def rho_DM_general(r, **kwargs):\n",
    "    a, rho0 = kwargs['a'], kwargs['rho0']\n",
    "    alpha, beta, gamma = kwargs['alpha'], kwargs['beta'], kwargs['gamma']\n",
    "    # x is dimensionless\n",
    "    x = r/a\n",
    "    \n",
    "    rho = rho0*(x**(-gamma))*(1+(x**alpha))**((gamma-beta)/alpha)\n",
    "    \n",
    "    # convert to pc^-2\n",
    "#     rho *= 1.264e-15 #[GeV/cm3 to pc-2]\n",
    "    return rho"
   ]
  },
  {
   "cell_type": "markdown",
   "metadata": {},
   "source": [
    "## Effective Scaling GR Density"
   ]
  },
  {
   "cell_type": "code",
   "execution_count": 7,
   "metadata": {},
   "outputs": [],
   "source": [
    "scaleparameters={\n",
    "    'a':20.0, #[kpc]\n",
    "    'rho0':0.3, #[GeV/cm^3]\n",
    "    'Mbh':1e6 #[Msol]    \n",
    "}\n",
    "NFWparameters={\n",
    "    'alpha':0.331,\n",
    "    'beta':-1.66,\n",
    "    'gamma':0.32,\n",
    "    'delta':-0.000282\n",
    "}\n",
    "Hernparameters={\n",
    "    'alpha':0.335,\n",
    "    'beta':-1.67,\n",
    "    'gamma':0.31,\n",
    "    'delta':-0.025\n",
    "}\n",
    "NFWfit_newton={\n",
    "    'eta':2,\n",
    "    'A':1.60,\n",
    "    'w':2.18,\n",
    "    'q':1.98\n",
    "}\n",
    "NFWfit_rel={\n",
    "    'eta':1,\n",
    "    'A':6.42,\n",
    "    'w':1.82,\n",
    "    'q':1.91\n",
    "}\n",
    "Hernfit_newton={\n",
    "    'eta':2,\n",
    "    'A':4.87,\n",
    "    'w':2.22,\n",
    "    'q':1.93\n",
    "}\n",
    "Hernfit_rel={\n",
    "    'eta':1,\n",
    "    'A':7.90,\n",
    "    'w':1.83,\n",
    "    'q':1.90\n",
    "}"
   ]
  },
  {
   "cell_type": "code",
   "execution_count": 14,
   "metadata": {},
   "outputs": [],
   "source": [
    "#takes inputs as Mbh in solar mass, r in kpc, A in Msol^-2 and outputs in GeV/cm^3\n",
    "\n",
    "def rho_effective(r, **kwargs):\n",
    "    # scale params\n",
    "    rho0, Mbh, a = kwargs['rho0'], kwargs['Mbh'], kwargs['a']\n",
    "    # profile params\n",
    "    alpha, beta, gamma, delta = kwargs['alpha'], kwargs['beta'], kwargs['gamma'], kwargs['delta']\n",
    "    # fit params \n",
    "    A, w, q, eta= kwargs['A'], kwargs['w'], kwargs['q'], kwargs['eta']\n",
    "   \n",
    "    # convert units so rho_bar has units 1/pc^2 and x_tilde is unitless\n",
    "    r *= 1e3 #[kpc to pc]\n",
    "    \n",
    "    Mbh1 = Mbh  #Preserve an blackhole mass in solar masses for future reference in rho\n",
    "    \n",
    "    Mbh *= 4.8e-14 #[Msol to pc]\n",
    "    A *= (10**-43) * (4.367e26) #[Msol^-2 to pc^-2: 1/2.29e-27]\n",
    "    x_tilde = r/Mbh\n",
    "    \n",
    "    rho_bar = A*((1-(4*eta / x_tilde))**w)*(((4.17*10**11)/x_tilde)**q)\n",
    "    \n",
    "    rho = rho_bar*(10**delta)*((rho0/0.3)**alpha)*((Mbh1/1e6)**beta)*((a/20)**gamma)\n",
    "    \n",
    "    # convert back to GeV/cm^3 from 1/pc^2\n",
    "#     rho *= 1.264e15 \n",
    "    rho*=7.934e14\n",
    "\n",
    "    return rho"
   ]
  },
  {
   "cell_type": "code",
   "execution_count": 10,
   "metadata": {},
   "outputs": [
    {
     "data": {
      "text/plain": [
       "(4.544546242394277e+30+2.884056744005155e+30j)"
      ]
     },
     "execution_count": 10,
     "metadata": {},
     "output_type": "execute_result"
    }
   ],
   "source": [
    "# rho effective takes a dictionary with scale params, profile params and fit params\n",
    "rho_NFW_Newton_params = {**scaleparameters, **NFWparameters, **NFWfit_newton}\n",
    "\n",
    "rho_effective(0.1, **rho_NFW_Newton_params)"
   ]
  },
  {
   "cell_type": "code",
   "execution_count": 107,
   "metadata": {},
   "outputs": [
    {
     "ename": "ModuleNotFoundError",
     "evalue": "No module named 'halo'",
     "output_type": "error",
     "traceback": [
      "\u001b[1;31m---------------------------------------------------------------------------\u001b[0m",
      "\u001b[1;31mModuleNotFoundError\u001b[0m                       Traceback (most recent call last)",
      "\u001b[1;32m<ipython-input-107-fc5ed26f564a>\u001b[0m in \u001b[0;36m<module>\u001b[1;34m\u001b[0m\n\u001b[1;32m----> 1\u001b[1;33m \u001b[1;32mimport\u001b[0m \u001b[0mhalo\u001b[0m\u001b[1;33m\u001b[0m\u001b[1;33m\u001b[0m\u001b[0m\n\u001b[0m\u001b[0;32m      2\u001b[0m \u001b[1;32mimport\u001b[0m \u001b[0mmerger_system\u001b[0m \u001b[1;32mas\u001b[0m \u001b[0mms\u001b[0m\u001b[1;33m\u001b[0m\u001b[1;33m\u001b[0m\u001b[0m\n",
      "\u001b[1;31mModuleNotFoundError\u001b[0m: No module named 'halo'"
     ]
    }
   ],
   "source": [
    "import halo\n",
    "import merger_system as ms"
   ]
  },
  {
   "cell_type": "markdown",
   "metadata": {},
   "source": [
    "# Plotting and tests"
   ]
  },
  {
   "cell_type": "markdown",
   "metadata": {},
   "source": [
    "## Comparing NFW and Hernquist"
   ]
  },
  {
   "cell_type": "code",
   "execution_count": 15,
   "metadata": {},
   "outputs": [
    {
     "data": {
      "text/plain": [
       "<matplotlib.legend.Legend at 0x25bbb4cfeb0>"
      ]
     },
     "execution_count": 15,
     "metadata": {},
     "output_type": "execute_result"
    },
    {
     "data": {
      "image/png": "[encoded data removed]",
      "text/plain": [
       "<Figure size 432x288 with 1 Axes>"
      ]
     },
     "metadata": {
      "needs_background": "light"
     },
     "output_type": "display_data"
    }
   ],
   "source": [
    "# r_list = np.geomspace(1e-6,100,100)\n",
    "\n",
    "r_list = np.geomspace(1e-11,1,10000)\n",
    "\n",
    "\n",
    "NFWparams = {**scale,**NFWparams}\n",
    "Hernparams = {**scale,**Hernquistparams}\n",
    "\n",
    "rhoNFW = np.array([[r, rho_DM_general(r, **NFWparams)] for r in r_list])\n",
    "rhoHern = np.array([[r, rho_DM_general(r, **Hernparams)] for r in r_list])\n",
    "\n",
    "plt.loglog(np.log10(rhoNFW[:,0]/(9.608e-11)),np.log10(rhoNFW[:,1]), label='NFW')\n",
    "plt.loglog(np.log10(rhoHern[:,0]/(9.608e-11)),np.log10(rhoHern[:,1]),'--', label='Hernquist', linewidth = 3)\n",
    "# plt.xscale('log')\n",
    "plt.legend()"
   ]
  },
  {
   "cell_type": "markdown",
   "metadata": {},
   "source": [
    "## Plotting Effective Scaling Density"
   ]
  },
  {
   "cell_type": "markdown",
   "metadata": {},
   "source": [
    "## Figure 1 plot a"
   ]
  },
  {
   "cell_type": "code",
   "execution_count": 16,
   "metadata": {},
   "outputs": [
    {
     "name": "stderr",
     "output_type": "stream",
     "text": [
      "<ipython-input-14-1963d607b900>:20: RuntimeWarning: invalid value encountered in double_scalars\n",
      "  rho_bar = A*((1-(4*eta / x_tilde))**w)*(((4.17*10**11)/x_tilde)**q)\n"
     ]
    },
    {
     "data": {
      "text/plain": [
       "<matplotlib.legend.Legend at 0x25bbac60df0>"
      ]
     },
     "execution_count": 16,
     "metadata": {},
     "output_type": "execute_result"
    },
    {
     "data": {
      "image/png": "[encoded data removed]",
      "text/plain": [
       "<Figure size 432x288 with 1 Axes>"
      ]
     },
     "metadata": {
      "needs_background": "light"
     },
     "output_type": "display_data"
    }
   ],
   "source": [
    "\n",
    "# r is entered in kpc\n",
    "r_list = np.geomspace(1e-11,1e3,100000)\n",
    "\n",
    "rho_NFW_Newton_params = {**scaleparameters, **NFWparameters, **NFWfit_newton}\n",
    "rho_NFW_rel_params = {**scaleparameters, **NFWparameters, **NFWfit_rel}\n",
    "\n",
    "#take log after \n",
    "rhoNFW_Newton = np.array([[r, rho_effective(r, **rho_NFW_Newton_params)] for r in r_list])\n",
    "rhoNFW_rel = np.array([[r, rho_effective(r, **rho_NFW_rel_params)] for r in r_list])\n",
    "\n",
    "\n",
    "plt.plot(np.log10(rhoNFW_Newton[:,0]/(9.608e-11)),np.log10(rhoNFW_Newton[:,1]), label='NFW (Newtonian) Eqn.7')\n",
    "plt.plot(np.log10(rhoNFW_rel[:,0]/(9.608e-11)),np.log10(rhoNFW_rel[:,1]), label='NFW (relativistic) Eqn.7')\n",
    "\n",
    "# plt.loglog(rhoNFW[:,0],rhoNFW[:,1], label='NFW Eqn.1')\n",
    "# plt.yscale('log')\n",
    "# plt.xscale('log')\n",
    "# plt.xlim(0,7)\n",
    "plt.ylim(10,20)\n",
    "plt.xlim(0,7)\n",
    "plt.grid()\n",
    "plt.legend()"
   ]
  },
  {
   "cell_type": "markdown",
   "metadata": {},
   "source": [
    "## Figure 1 plot b"
   ]
  },
  {
   "cell_type": "code",
   "execution_count": 17,
   "metadata": {},
   "outputs": [
    {
     "name": "stderr",
     "output_type": "stream",
     "text": [
      "<ipython-input-14-1963d607b900>:20: RuntimeWarning: invalid value encountered in double_scalars\n",
      "  rho_bar = A*((1-(4*eta / x_tilde))**w)*(((4.17*10**11)/x_tilde)**q)\n"
     ]
    },
    {
     "data": {
      "text/plain": [
       "<matplotlib.legend.Legend at 0x25bbcadb1c0>"
      ]
     },
     "execution_count": 17,
     "metadata": {},
     "output_type": "execute_result"
    },
    {
     "data": {
      "image/png": "[encoded data removed]",
      "text/plain": [
       "<Figure size 432x288 with 1 Axes>"
      ]
     },
     "metadata": {
      "needs_background": "light"
     },
     "output_type": "display_data"
    }
   ],
   "source": [
    "r_list = np.geomspace(1e-11,1,1000)\n",
    "#r_list = np.log10(r_list/(9.608e-11))\n",
    "\n",
    "rho_NFW_Hernquist_params = {**scaleparameters, **Hernparameters, **Hernfit_rel}\n",
    "rho_NFW_rel_params = {**scaleparameters, **NFWparameters, **NFWfit_rel}\n",
    "\n",
    "#take log after \n",
    "rhoHern_rel = np.array([[r, rho_effective(r, **rho_NFW_Hernquist_params)] for r in r_list])\n",
    "rhoNFW_rel = np.array([[r, rho_effective(r, **rho_NFW_rel_params)] for r in r_list])\n",
    "\n",
    "\n",
    "plt.plot(np.log10(rhoHern_rel[:,0]/(9.608e-11)),np.log10(rhoHern_rel[:,1]), label='Hernquist (relativistic) Eqn.7')\n",
    "plt.plot(np.log10(rhoNFW_rel[:,0]/(9.608e-11)),np.log10(rhoNFW_rel[:,1]), label='NFW (relativistic) Eqn.7')\n",
    "#plt.loglog(rhoNFW[:,0],rhoNFW[:,1], label='NFW Eqn.1')\n",
    "# plt.yscale('log')\n",
    "#plt.xscale('log')\n",
    "plt.xlim(0,7)\n",
    "plt.ylim(10,20)\n",
    "plt.legend()"
   ]
  },
  {
   "cell_type": "markdown",
   "metadata": {},
   "source": [
    "## Attempting to recreate Figure 1 from Sadeghian:\n",
    "https://arxiv.org/pdf/1305.2619.pdf"
   ]
  },
  {
   "cell_type": "markdown",
   "metadata": {},
   "source": [
    "## Eda paper mini-spike profile:\n",
    "\n",
    "$\\rho_{DM}(r)  =\\begin{cases}\n",
    "\\rho_{\\text{spike}}(r), & r_{\\text{min}}\\le r \\le r_{\\text{sp}}\\\\\n",
    "\\rho_{\\text{NFW}} & r_{\\text{sp}}<r\n",
    "\\end{cases}\n",
    "$\n",
    "\n",
    "with\n",
    "\n",
    "$\\rho_{\\text {spike }}(r)=\\rho_{\\mathrm{sp}}\\left(\\frac{r_{\\mathrm{sp}}}{r}\\right)^{\\alpha}$\n",
    "\n",
    "$\\alpha=\\frac{9-2 \\alpha_{\\text {ini }}}{4-\\alpha_{\\text {ini }}}$"
   ]
  },
  {
   "cell_type": "code",
   "execution_count": 39,
   "metadata": {},
   "outputs": [],
   "source": [
    "#takes input in pc units and outputs in pc units\n",
    "\n",
    "def Spike_Halo(r, rho_spike, r_spike, alpha, r_min=0):   # Spike Model\n",
    "    \"\"\"\n",
    "    Defining the Halo Model from Eda paper [https://arxiv.org/abs/1408.3534]\n",
    "    \n",
    "    The density is given by:\n",
    "        rho (r) = rho_spike*(r_spike/r)^(alpha)\n",
    "    \n",
    "    Parameters:\n",
    "        rho_spike : float\n",
    "            The density parameter of the spike profile\n",
    "        r_spike : float\n",
    "            The scale radius of the spike profile\n",
    "        alpha : float\n",
    "            The power-law index of the spike profile, with condition 0 < alpha < 3\n",
    "    \"\"\"\n",
    "    return  (rho_spike * (r_spike / r)**alpha )\n"
   ]
  },
  {
   "cell_type": "markdown",
   "metadata": {},
   "source": [
    "#### Same rho_effective function as before but now takes r as input in pc and not kpc (still outputs in 1/pc^2)"
   ]
  },
  {
   "cell_type": "code",
   "execution_count": 52,
   "metadata": {},
   "outputs": [],
   "source": [
    "#takes inputs as Mbh in solar mass, r in pc, A in Msol^-2 and outputs in 1/pc^2\n",
    "\n",
    "def rho_effective(r, **kwargs):\n",
    "    # scale params\n",
    "    rho0, Mbh, a = kwargs['rho0'], kwargs['Mbh'], kwargs['a']\n",
    "    # profile params\n",
    "    alpha, beta, gamma, delta = kwargs['alpha'], kwargs['beta'], kwargs['gamma'], kwargs['delta']\n",
    "    # fit params \n",
    "    A, w, q, eta= kwargs['A'], kwargs['w'], kwargs['q'], kwargs['eta']\n",
    "   \n",
    "    # convert units so rho_bar has units 1/pc^2 and x_tilde is unitless\n",
    "    #r *= 1e3 #[kpc to pc]\n",
    "    \n",
    "    Mbh1 = Mbh  #Preserve an blackhole mass in solar masses for future reference in rho\n",
    "    \n",
    "    Mbh *= 4.8e-14 #[Msol to pc]\n",
    "    A *= (10**-43) * (4.367e26) #[Msol^-2 to pc^-2: 1/2.29e-27]\n",
    "    x_tilde = r/Mbh\n",
    "    \n",
    "    rho_bar = A*((1-(4*eta / x_tilde))**w)*(((4.17*10**11)/x_tilde)**q)\n",
    "    \n",
    "    rho = rho_bar*(10**delta)*((rho0/0.3)**alpha)*((Mbh1/1e6)**beta)*((a/20)**gamma)\n",
    "    \n",
    "    # convert back to GeV/cm^3 from 1/pc^2\n",
    "#     rho *= 1.264e15 \n",
    "    rho*=7.934e14\n",
    "\n",
    "    return rho"
   ]
  },
  {
   "cell_type": "markdown",
   "metadata": {},
   "source": [
    "Note that an NFW profile has the form:\n",
    "\n",
    "$\\rho(r)= \\rho_{s}(r/r_{s})^{-1}\\left(1+(r/r_{s})^{1}\\right)^{-2}$\n",
    "\n",
    "For our system, this is given by:\n",
    "\n",
    "$\\rho_{s} = 3.8 \\times 10^{-22} \\: \\text{g/cm}^3$\n",
    "\n",
    "$r_s = 23.1 \\text{pc}$\n",
    "\n",
    "According to table 1 in https://arxiv.org/pdf/1408.3534.pdf. \n",
    "\n",
    "Comparing with the Speeney paper of the general profile:\n",
    "\n",
    "$\\rho(r)=\\rho_{0}(r / a)^{-\\gamma}\\left(1+(r / a)^{\\alpha}\\right)^{(\\gamma-\\beta) / \\alpha}$\n",
    "\n",
    "It implies to get a fitting NFW profile for our system we would need:\n",
    "\n",
    "$\\rho_{0} = 3.8 \\times 10^{-22} \\: \\text{g/cm}^3$\n",
    "\n",
    "$a = 23.1 \\text{pc}$\n",
    "\n",
    "$\\alpha = 1, \\: \\beta = 3, \\: \\gamma =1$"
   ]
  },
  {
   "cell_type": "code",
   "execution_count": 53,
   "metadata": {},
   "outputs": [],
   "source": [
    "rho0 = 3.8*1e-22 #[g/cm^3] from eda paper\n",
    "rho0 *= 5.62*1e23 #[g/cm^3 to GeV/cm^3]\n",
    "m1 = 4.8e-11    #mass of the Bh in pc (1000 solar masses)\n",
    "a = 23.1 #scaling radius from eda in pc\n",
    "a *= 1e-3 # pc to kpc\n",
    "\n",
    "#--------------------Halo Parameters from Eda paper in pc natural units -----------------------------\n",
    "rho_spike = 1.0848e-11               # [226.*solar_mass_to_pc]\n",
    "alpha_spike = 7/3\n",
    "r_spike = 0.54\n",
    "\n",
    "\n",
    "# parameters a, rho0, and Mbh from Eda paper in pc, GeV/cm^2, and solar mass respectively.\n",
    "scaleparameters={\n",
    "    'a':a,     #  23.1 but in kpc         \n",
    "    'rho0':rho0, #3.8e-22 g/cm3 but in GeV/cm3 from eda\n",
    "    'Mbh':1e3   # m1 but in [Msol]   \n",
    "}\n"
   ]
  },
  {
   "cell_type": "markdown",
   "metadata": {},
   "source": [
    "### Computing the relativistic profile in pc"
   ]
  },
  {
   "cell_type": "code",
   "execution_count": 54,
   "metadata": {},
   "outputs": [],
   "source": [
    "rho_NFW_rel_params = {**scaleparameters, **NFWparameters, **NFWfit_rel}\n",
    "\n",
    "r_list = np.linspace(6*m1,100*m1,1000)  #r from 6Gm to 100Gm in pc\n",
    "\n",
    "rhoNFW_rel = np.array([[r, rho_effective(r, **rho_NFW_rel_params)] for r in r_list])"
   ]
  },
  {
   "cell_type": "markdown",
   "metadata": {},
   "source": [
    "### Computing the Spiked profile in pc"
   ]
  },
  {
   "cell_type": "code",
   "execution_count": 55,
   "metadata": {},
   "outputs": [],
   "source": [
    "spiked_rho = Spike_Halo(r_list, rho_spike, r_spike, alpha_spike, r_min=0)"
   ]
  },
  {
   "cell_type": "markdown",
   "metadata": {},
   "source": [
    "### Plotting the region from 6GM (r_isco) to 100 GM (initial parameters of our evolution"
   ]
  },
  {
   "cell_type": "code",
   "execution_count": 56,
   "metadata": {},
   "outputs": [
    {
     "data": {
      "image/png": "[encoded data removed]",
      "text/plain": [
       "<Figure size 432x288 with 1 Axes>"
      ]
     },
     "metadata": {
      "needs_background": "light"
     },
     "output_type": "display_data"
    }
   ],
   "source": [
    "plt.plot(rhoNFW_rel[:,0]/m1  ,rhoNFW_rel[:,1] /(7.934e14), label='NFW (relativistic) Eqn.7')\n",
    "plt.plot(r_list/m1   ,spiked_rho / (7.934e14) , label='Spiked Profile')\n",
    "plt.grid()\n",
    "plt.xlabel('$ r/Gm $')\n",
    "plt.ylabel('$ \\\\rho $ [Gev/cm$^3$]' )\n",
    "plt.legend()\n",
    "plt.yscale('log')"
   ]
  },
  {
   "cell_type": "markdown",
   "metadata": {},
   "source": [
    "### Plotting a larger range "
   ]
  },
  {
   "cell_type": "code",
   "execution_count": 66,
   "metadata": {},
   "outputs": [
    {
     "data": {
      "image/png": "[encoded data removed]",
      "text/plain": [
       "<Figure size 432x288 with 1 Axes>"
      ]
     },
     "metadata": {
      "needs_background": "light"
     },
     "output_type": "display_data"
    }
   ],
   "source": [
    "\n",
    "r_list = np.geomspace(6*m1,23,1000) #r from 6Gm to 23 pc  (where the spike transforms to an NFW profile)\n",
    " \n",
    "rhoNFW_rel = np.array([[r, rho_effective(r, **rho_NFW_rel_params)] for r in r_list])\n",
    "spiked_rho = Spike_Halo(r_list, rho_spike, r_spike, alpha_spike, r_min=0)\n",
    "\n",
    "\n",
    "\n",
    "plt.plot(rhoNFW_rel[:,0]/m1  ,rhoNFW_rel[:,1] /(7.934e14), label='NFW (relativistic) Eqn.7')\n",
    "plt.plot(r_list/m1   ,spiked_rho / (7.934e14) , label='Spiked Profile')\n",
    "plt.grid()\n",
    "plt.xlabel('$ r/Gm $')\n",
    "plt.ylabel('$ \\\\rho $ [Gev/cm$^3$]' )\n",
    "plt.legend()\n",
    "plt.yscale('log')\n",
    "plt.xscale('log')"
   ]
  },
  {
   "cell_type": "code",
   "execution_count": null,
   "metadata": {},
   "outputs": [],
   "source": [
    "m_bh = m1\n",
    "r_s = 23.1\n",
    "rho_s = 3.8e-22 * ms.g_cm3_to_invpc2\n",
    "r_schwarzschild = 2.*m_bh\n",
    "\n",
    "# spike properties\n",
    "r_sp = 0.54\n",
    "rho_sp = 226 * ms.solar_mass_to_pc\n",
    "alpha=7/3\n",
    "r_grid = np.geomspace( r_schwarzschild, 100*r_s, 1000)\n",
    "\n",
    "nfwprofile = halo.SpikedNFW(rho_s, r_s, r_sp, alpha)\n",
    "def rho(r):\n",
    "    return nfwprofile.density(r)"
   ]
  },
  {
   "cell_type": "code",
   "execution_count": null,
   "metadata": {},
   "outputs": [],
   "source": [
    "function rho_effective(r, Mbh)\n",
    "    # scale params\n",
    "\n",
    "    a = 23.1  #[pc] from eda paper\n",
    "    rho0 = 3.8*1e-22 #[g/cm^3] from eda paper\n",
    "    rho0 *= 5.60958*1e+23 #[g/cm^3 to GeV/cm^3]\n",
    "\n",
    "\n",
    "    # profile params\n",
    "    alpha = 0.331\n",
    "    beta = -1.66\n",
    "    gamma = 0.32\n",
    "    delta = -0.000282\n",
    "    \n",
    "    # fit params \n",
    "    eta = 1\n",
    "    A = 6.42\n",
    "    w = 1.82\n",
    "    q = 1.91\n",
    "\n",
    "    # convert units so rho_bar has units 1/pc^2 and x_tilde is unitless\n",
    "    #r *= 1e3 #[kpc to pc]\n",
    "    Mbh1 = Mbh / (4.8e-14) #[pc to Msol]\n",
    "    A *= (10^-43) * (4.367e26) #[Msol^-2 to pc^-2: 1/2.29e-27]\n",
    "    x_tilde = r./Mbh\n",
    "    \n",
    "    rho_bar = A.*((1-( 4. * eta ./ x_tilde)).^w).*(((4.17 * 10^11)./x_tilde).^q)\n",
    "    \n",
    "    rho = rho_bar.*(10^delta).*((rho0/0.3)^alpha).*((Mbh1/1e6)^beta).*((a/20)^gamma)\n",
    "    \n",
    "    # convert back to GeV/cm^3 from 1/pc^2\n",
    "#     rho *= 1.264e15\n",
    "    return rho\n",
    "end"
   ]
  },
  {
   "cell_type": "markdown",
   "metadata": {},
   "source": [
    "## Testing the r grid"
   ]
  },
  {
   "cell_type": "code",
   "execution_count": 183,
   "metadata": {},
   "outputs": [
    {
     "name": "stdout",
     "output_type": "stream",
     "text": [
      "[ 0.03998901  0.04229182  0.04459464 ... 23.06123431 23.06353712\n",
      " 23.06583994]\n"
     ]
    }
   ],
   "source": [
    "r_list = np.geomspace(1e-10,1,10000) #kpc\n",
    "Rs = 9.608e-11 #kpc\n",
    "print(np.log(r_list/Rs))"
   ]
  },
  {
   "cell_type": "code",
   "execution_count": 203,
   "metadata": {},
   "outputs": [
    {
     "ename": "AttributeError",
     "evalue": "'list' object has no attribute 'flatten'",
     "output_type": "error",
     "traceback": [
      "\u001b[0;31m---------------------------------------------------------------------------\u001b[0m",
      "\u001b[0;31mAttributeError\u001b[0m                            Traceback (most recent call last)",
      "\u001b[0;32m<ipython-input-203-71fc59260484>\u001b[0m in \u001b[0;36m<module>\u001b[0;34m\u001b[0m\n\u001b[1;32m      1\u001b[0m \u001b[0marr\u001b[0m \u001b[0;34m=\u001b[0m \u001b[0;34m[\u001b[0m\u001b[0;34m[\u001b[0m\u001b[0mi\u001b[0m\u001b[0;34m,\u001b[0m\u001b[0mr\u001b[0m\u001b[0;34m]\u001b[0m \u001b[0;32mfor\u001b[0m \u001b[0mi\u001b[0m\u001b[0;34m,\u001b[0m\u001b[0mr\u001b[0m \u001b[0;32min\u001b[0m \u001b[0;34m(\u001b[0m\u001b[0menumerate\u001b[0m\u001b[0;34m(\u001b[0m\u001b[0mnp\u001b[0m\u001b[0;34m.\u001b[0m\u001b[0mlog\u001b[0m\u001b[0;34m(\u001b[0m\u001b[0mr_list\u001b[0m\u001b[0;34m/\u001b[0m\u001b[0mRs\u001b[0m\u001b[0;34m)\u001b[0m\u001b[0;34m)\u001b[0m\u001b[0;34m)\u001b[0m\u001b[0;34m]\u001b[0m\u001b[0;34m\u001b[0m\u001b[0;34m\u001b[0m\u001b[0m\n\u001b[0;32m----> 2\u001b[0;31m \u001b[0mprint\u001b[0m\u001b[0;34m(\u001b[0m\u001b[0marr\u001b[0m\u001b[0;34m.\u001b[0m\u001b[0mflatten\u001b[0m\u001b[0;34m(\u001b[0m\u001b[0;34m)\u001b[0m\u001b[0;34m)\u001b[0m\u001b[0;34m\u001b[0m\u001b[0;34m\u001b[0m\u001b[0m\n\u001b[0m\u001b[1;32m      3\u001b[0m \u001b[0;31m# plt.plot()\u001b[0m\u001b[0;34m\u001b[0m\u001b[0;34m\u001b[0m\u001b[0;34m\u001b[0m\u001b[0m\n",
      "\u001b[0;31mAttributeError\u001b[0m: 'list' object has no attribute 'flatten'"
     ]
    }
   ],
   "source": [
    "arr = [[i,r] for i,r in (enumerate(np.log(r_list/Rs)))]\n",
    "print(arr.flatten())\n",
    "# plt.plot()"
   ]
  },
  {
   "cell_type": "code",
   "execution_count": 197,
   "metadata": {},
   "outputs": [
    {
     "data": {
      "text/plain": [
       "[<enumerate at 0x7fa3e2db0960>]"
      ]
     },
     "execution_count": 197,
     "metadata": {},
     "output_type": "execute_result"
    }
   ],
   "source": [
    "list(enumerate(np.log(r_list/Rs)))"
   ]
  },
  {
   "cell_type": "code",
   "execution_count": 206,
   "metadata": {},
   "outputs": [
    {
     "ename": "TypeError",
     "evalue": "list indices must be integers or slices, not tuple",
     "output_type": "error",
     "traceback": [
      "\u001b[0;31m---------------------------------------------------------------------------\u001b[0m",
      "\u001b[0;31mTypeError\u001b[0m                                 Traceback (most recent call last)",
      "\u001b[0;32m<ipython-input-206-e93ea3308dc6>\u001b[0m in \u001b[0;36m<module>\u001b[0;34m\u001b[0m\n\u001b[0;32m----> 1\u001b[0;31m \u001b[0marr\u001b[0m\u001b[0;34m[\u001b[0m\u001b[0;34m:\u001b[0m\u001b[0;34m,\u001b[0m\u001b[0;36m0\u001b[0m\u001b[0;34m]\u001b[0m\u001b[0;34m\u001b[0m\u001b[0;34m\u001b[0m\u001b[0m\n\u001b[0m",
      "\u001b[0;31mTypeError\u001b[0m: list indices must be integers or slices, not tuple"
     ]
    }
   ],
   "source": [
    "arr[:,0]"
   ]
  },
  {
   "cell_type": "code",
   "execution_count": null,
   "metadata": {},
   "outputs": [],
   "source": []
  }
 ],
 "metadata": {
  "kernelspec": {
   "display_name": "Python 3",
   "language": "python",
   "name": "python3"
  },
  "language_info": {
   "codemirror_mode": {
    "name": "ipython",
    "version": 3
   },
   "file_extension": ".py",
   "mimetype": "text/x-python",
   "name": "python",
   "nbconvert_exporter": "python",
   "pygments_lexer": "ipython3",
   "version": "3.7.6"
  },
  "toc": {
   "base_numbering": 1,
   "nav_menu": {},
   "number_sections": true,
   "sideBar": true,
   "skip_h1_title": false,
   "title_cell": "Table of Contents",
   "title_sidebar": "Contents",
   "toc_cell": false,
   "toc_position": {},
   "toc_section_display": true,
   "toc_window_display": false
  }
 },
 "nbformat": 4,
 "nbformat_minor": 4
}
