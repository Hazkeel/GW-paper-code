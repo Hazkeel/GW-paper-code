{
 "cells": [
  {
   "cell_type": "code",
   "execution_count": 68,
   "id": "30bcca5b",
   "metadata": {},
   "outputs": [],
   "source": [
    "import numpy as np\n",
    "import matplotlib.pyplot as plt\n",
    "import pandas as pd\n",
    "import time"
   ]
  },
  {
   "cell_type": "code",
   "execution_count": 69,
   "id": "259051e2",
   "metadata": {},
   "outputs": [],
   "source": [
    "Mbh = 1e3\n",
    "run_name = \"Run_0\""
   ]
  },
  {
   "cell_type": "markdown",
   "id": "a6fbbe4b",
   "metadata": {},
   "source": [
    "## Semi-Major Axis Plot"
   ]
  },
  {
   "cell_type": "code",
   "execution_count": 70,
   "id": "3fe66fb7",
   "metadata": {},
   "outputs": [
    {
     "name": "stdout",
     "output_type": "stream",
     "text": [
      "elapsed time  148.326044 s\n",
      "195364.614\n"
     ]
    }
   ],
   "source": [
    "t_i = time.perf_counter()\n",
    "\n",
    "df1   = pd.read_csv(run_name+\"_semi_major_axis\"+\".csv\", delimiter =',',engine='c', header=0, usecols=[0])\n",
    "df2 = pd.read_csv(run_name+\"_semi_major_axis\"+\".csv\", delimiter =',',engine='c', header=0, usecols=[1])\n",
    "t = df1.to_numpy(dtype='float64').flatten()\n",
    "sma = df2.to_numpy(dtype='float64').flatten()\n",
    "df1 = None\n",
    "df2 = None\n",
    "\n",
    "t_f = time.perf_counter() - t_i\n",
    "\n",
    "print(\"elapsed time \", round(t_f,6), \"s\")\n",
    "print(len(t)/1000)\n"
   ]
  },
  {
   "cell_type": "code",
   "execution_count": 71,
   "id": "f0edfaf2-0971-4ee8-9488-282928966896",
   "metadata": {},
   "outputs": [],
   "source": [
    "hz_to_invpc = 1.029e8\n",
    "s_to_pc = 9.716e-9\n",
    "m_to_pc = 3.241e-17\n",
    "solar_mass_to_pc = 4.8e-14\n",
    "g_cm3_to_invpc2 = 7.072e8\n",
    "year_to_pc = 0.3064\n",
    "yr_to_s = 31556952\n",
    "\n",
    "\n",
    "def r_isco(Mbh):    \n",
    "    \"\"\"\n",
    "    Radius of the Innermost Stable Circular Orbit (ISCO) of a Schwarzschild black hole with mass m\n",
    "    \"\"\" \n",
    "    Mbh *= solar_mass_to_pc\n",
    "    return 6.0*Mbh"
   ]
  },
  {
   "cell_type": "code",
   "execution_count": 72,
   "id": "feac98ac",
   "metadata": {},
   "outputs": [
    {
     "name": "stdout",
     "output_type": "stream",
     "text": [
      "7.057717614772666 7.7801476318503715\n",
      "29.66732060978755 2.5498514584123244\n"
     ]
    }
   ],
   "source": [
    "print(t[0],t[-1])\n",
    "print(sma[0]/r_isco(Mbh),sma[-1]/r_isco(Mbh))"
   ]
  },
  {
   "cell_type": "code",
   "execution_count": 73,
   "id": "e28e4641",
   "metadata": {},
   "outputs": [
    {
     "name": "stdout",
     "output_type": "stream",
     "text": [
      "elapsed time  2.427313 s\n"
     ]
    },
    {
     "data": {
      "image/png": "[encoded data removed]",
      "text/plain": [
       "<Figure size 432x288 with 1 Axes>"
      ]
     },
     "metadata": {
      "needs_background": "light"
     },
     "output_type": "display_data"
    }
   ],
   "source": [
    "t_i = time.perf_counter()\n",
    "\n",
    "\n",
    "def Semi_Major_Axis_Plot(t,sma):\n",
    "    step_sma = 50  \n",
    "    plot1 = plt.plot(t[0::step_sma]/year_to_pc, sma[0::step_sma]/r_isco(Mbh), label=\"with DM halo\", c='r')\n",
    "    plt.xlabel(r'$t$ $[years]$')\n",
    "    plt.ylabel(r'$a(t)/r_{isco}$')\n",
    "    plt.ylim(bottom=1, top=1.1e2)\n",
    "    plt.xscale(\"log\")\n",
    "    plt.yscale(\"log\")\n",
    "    plt.legend(loc='lower left')\n",
    "    plt.grid()\n",
    "    plt.savefig(run_name+\"_Semi_Major_Axis_Plot_py.png\", dpi=300);\n",
    "    return None\n",
    "\n",
    "Semi_Major_Axis_Plot(t,sma)\n",
    "\n",
    "t_f = time.perf_counter() - t_i\n",
    "\n",
    "print(\"elapsed time \", round(t_f,6), \"s\")"
   ]
  },
  {
   "cell_type": "code",
   "execution_count": 74,
   "id": "6553cfa9-5b2c-48ec-8409-51c60cfb80ff",
   "metadata": {},
   "outputs": [],
   "source": [
    "t = None\n",
    "sma = None"
   ]
  },
  {
   "cell_type": "markdown",
   "id": "9f3e4763",
   "metadata": {},
   "source": [
    "## Characteristic Strain Plot"
   ]
  },
  {
   "cell_type": "code",
   "execution_count": 75,
   "id": "b5228659",
   "metadata": {},
   "outputs": [],
   "source": [
    "if Mbh == 1e5:\n",
    "    lisa_bandwidth = [1e-5*hz_to_invpc, 1e0*hz_to_invpc]\n",
    "elif Mbh == 1e3:\n",
    "    lisa_bandwidth = [1e-4*hz_to_invpc, 1e0*hz_to_invpc]\n",
    "\n",
    "f_gw = np.geomspace(lisa_bandwidth[0], lisa_bandwidth[1], 100)\n",
    "\n",
    "def NoiseSpectralDensity(f):\n",
    "    P_oms = (1.5e-11 * m_to_pc)**2  * (1. + (2e-3 * hz_to_invpc/f)**4) / hz_to_invpc\n",
    "    P_acc = (3e-15 * m_to_pc / s_to_pc**2)**2 * (1. + (0.4e-3 * hz_to_invpc/f)**2) * (1. + (f/8e-3/hz_to_invpc)**4) / hz_to_invpc\n",
    "    f_s = 19.09e-3 * hz_to_invpc\n",
    "    L = 2.5e9 * m_to_pc\n",
    "    return 10./3./L**2  * (P_oms + 2.* (1. + np.cos(f/f_s)**2 ) * P_acc / (2.*np.pi*f)**4) * (1. + 6./10. * (f/f_s)**2)\n",
    "\n",
    "\n",
    "NoiseStrain = np.sqrt(f_gw*NoiseSpectralDensity(f_gw))"
   ]
  },
  {
   "cell_type": "code",
   "execution_count": 76,
   "id": "a9198c3a",
   "metadata": {},
   "outputs": [
    {
     "name": "stdout",
     "output_type": "stream",
     "text": [
      "elapsed time  29.877557 s\n",
      "36847069\n"
     ]
    }
   ],
   "source": [
    "t_i = time.perf_counter()\n",
    "\n",
    "df1   = pd.read_csv(run_name+\"_char_strain\"+\".csv\", delimiter =',',engine='c', header=0, usecols=[0])\n",
    "df2   = pd.read_csv(run_name+\"_char_strain\"+\".csv\", delimiter =',',engine='c', header=0, usecols=[1])\n",
    "frequency = df1.to_numpy(dtype='float64').flatten()\n",
    "h_char    = df2.to_numpy(dtype='float64').flatten()\n",
    "df1 = None\n",
    "df2 = None\n",
    "\n",
    "t_f = time.perf_counter() - t_i\n",
    "\n",
    "print(\"elapsed time \", round(t_f,6), \"s\")\n",
    "print(len(frequency))"
   ]
  },
  {
   "cell_type": "code",
   "execution_count": 77,
   "id": "53377351",
   "metadata": {},
   "outputs": [
    {
     "name": "stdout",
     "output_type": "stream",
     "text": [
      "elapsed time  3.195539 s\n"
     ]
    },
    {
     "data": {
      "image/png": "[encoded data removed]",
      "text/plain": [
       "<Figure size 432x288 with 1 Axes>"
      ]
     },
     "metadata": {
      "needs_background": "light"
     },
     "output_type": "display_data"
    }
   ],
   "source": [
    "t_i = time.perf_counter()\n",
    "\n",
    "def Char_Strain_plot(frequency, h_char, f_gw, lisa_bandwidth):\n",
    "    f_start = int(1)\n",
    "    f_end   = int(len(frequency)/2)\n",
    "    step_hchar = 5\n",
    "    \n",
    "    plt.plot(frequency[f_start:f_end:step_hchar], h_char[f_start:f_end:step_hchar], label=\"with DM halo\", lw=1)\n",
    "    plt.plot(f_gw/hz_to_invpc, NoiseStrain, label=\"LISA noise curve\")\n",
    "    plt.xlabel(r'$f$ $[Hz]$')\n",
    "    plt.ylabel(r'$Characteristic$ $Strain$ $(h_c)$')\n",
    "    plt.ylim(bottom=1e-22, top=1e-16)\n",
    "    plt.xlim(left=lisa_bandwidth[0]/hz_to_invpc, right=lisa_bandwidth[1]/hz_to_invpc)\n",
    "    plt.xscale(\"log\")\n",
    "    plt.yscale(\"log\")\n",
    "    plt.legend(loc='lower left')\n",
    "    plt.grid()\n",
    "    plt.savefig(run_name+\"_Char_Strain_Plot_py.png\", dpi=300);\n",
    "    return None\n",
    "\n",
    "\n",
    "Char_Strain_plot(frequency, h_char, f_gw, lisa_bandwidth)\n",
    "\n",
    "\n",
    "t_f = time.perf_counter() - t_i\n",
    "\n",
    "print(\"elapsed time \", round(t_f,6), \"s\")"
   ]
  },
  {
   "cell_type": "code",
   "execution_count": 78,
   "id": "4cf43a9c-3147-4b89-b2f5-1e8caa4b9128",
   "metadata": {},
   "outputs": [],
   "source": [
    "frequency = None\n",
    "h_char = None"
   ]
  }
 ],
 "metadata": {
  "kernelspec": {
   "display_name": "Python 3 (ipykernel)",
   "language": "python",
   "name": "python3"
  },
  "language_info": {
   "codemirror_mode": {
    "name": "ipython",
    "version": 3
   },
   "file_extension": ".py",
   "mimetype": "text/x-python",
   "name": "python",
   "nbconvert_exporter": "python",
   "pygments_lexer": "ipython3",
   "version": "3.8.13"
  }
 },
 "nbformat": 4,
 "nbformat_minor": 5
}
