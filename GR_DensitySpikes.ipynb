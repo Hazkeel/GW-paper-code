{
 "cells": [
  {
   "cell_type": "markdown",
   "metadata": {},
   "source": [
    "# Imports"
   ]
  },
  {
   "cell_type": "code",
   "execution_count": 1,
   "metadata": {},
   "outputs": [],
   "source": [
    "# System\n",
    "import sys\n",
    "\n",
    "# Plotting \n",
    "import matplotlib as mpl\n",
    "import matplotlib.pyplot as plt\n",
    "\n",
    "# math and array tools \n",
    "import numpy as np\n",
    "import pandas as pd\n",
    "from scipy import interpolate\n",
    "from itertools import permutations\n",
    "\n",
    "# Access local directories\n",
    "import os, glob\n",
    "\n",
    "# Timing\n",
    "import time as t"
   ]
  },
  {
   "cell_type": "markdown",
   "metadata": {},
   "source": [
    "# Density Profiles"
   ]
  },
  {
   "cell_type": "markdown",
   "metadata": {},
   "source": [
    "## Global Varibles"
   ]
  },
  {
   "cell_type": "code",
   "execution_count": 2,
   "metadata": {},
   "outputs": [],
   "source": [
    "# unit conversions\n",
    "hz_to_invpc = 1.029e8\n",
    "s_to_pc = 9.716e-9\n",
    "m_to_pc = 3.241e-17\n",
    "solar_mass_to_pc = 4.8e-14\n",
    "g_cm3_to_invpc2 = 7.072e8\n",
    "year_to_pc = 0.3064"
   ]
  },
  {
   "cell_type": "markdown",
   "metadata": {},
   "source": [
    "## Generic Density Distribution"
   ]
  },
  {
   "cell_type": "code",
   "execution_count": 3,
   "metadata": {},
   "outputs": [],
   "source": [
    "scale = {'a':0.01, 'rho0':0.3}\n",
    "NFWparams = {'alpha':1,'beta':3,'gamma':1}\n",
    "Hernquistparams = {'alpha':1,'beta':4,'gamma':1}"
   ]
  },
  {
   "cell_type": "code",
   "execution_count": 4,
   "metadata": {},
   "outputs": [],
   "source": [
    "def rho_DM_general(r, **kwargs):\n",
    "    a, rho0 = kwargs['a'], kwargs['rho0']\n",
    "    alpha, beta, gamma = kwargs['alpha'], kwargs['beta'], kwargs['gamma']\n",
    "    # x is dimensionless\n",
    "    x = r/a\n",
    "    \n",
    "    rho = rho0*(x**(-gamma))*(1+(x**alpha))**((gamma-beta)/alpha)\n",
    "    \n",
    "    # convert to pc^-2\n",
    "    rho *= 1.264e-15 #[GeV/cm3 to pc-2]\n",
    "    return rho"
   ]
  },
  {
   "cell_type": "markdown",
   "metadata": {},
   "source": [
    "## Effective Scaling GR Density"
   ]
  },
  {
   "cell_type": "code",
   "execution_count": 5,
   "metadata": {},
   "outputs": [],
   "source": [
    "scaleparameters={\n",
    "    'a':0.01, #[kpc]\n",
    "    'rho0':0.3, #[GeV/cm^3]\n",
    "    'Mbh':1e6 #[Msol]    \n",
    "}\n",
    "NFWparameters={\n",
    "    'alpha':0.331,\n",
    "    'beta':-1.66,\n",
    "    'gamma':0.32,\n",
    "    'delta':-0.000282\n",
    "}\n",
    "Hernparameters={\n",
    "    'alpha':0.335,\n",
    "    'beta':-1.67,\n",
    "    'gamma':0.31,\n",
    "    'delta':-0.025\n",
    "}\n",
    "NFWfit_newton={\n",
    "    'eta':2,\n",
    "    'A':1.60,\n",
    "    'w':2.18,\n",
    "    'q':1.98\n",
    "}\n",
    "NFWfit_rel={\n",
    "    'eta':1,\n",
    "    'A':6.42,\n",
    "    'w':1.82,\n",
    "    'q':1.91\n",
    "}\n",
    "Hernfit_newton={\n",
    "    'eta':2,\n",
    "    'A':4.87,\n",
    "    'w':2.22,\n",
    "    'q':1.93\n",
    "}\n",
    "Hernfit_rel={\n",
    "    'eta':1,\n",
    "    'A':7.90,\n",
    "    'w':1.83,\n",
    "    'q':1.90\n",
    "}"
   ]
  },
  {
   "cell_type": "code",
   "execution_count": 6,
   "metadata": {},
   "outputs": [],
   "source": [
    "def rho_effective(r, **kwargs):\n",
    "    # scale params\n",
    "    rho0, Mbh, a = kwargs['rho0'], kwargs['Mbh'], kwargs['a']\n",
    "    # profile params\n",
    "    alpha, beta, gamma, delta = kwargs['alpha'], kwargs['beta'], kwargs['gamma'], kwargs['delta']\n",
    "    # fit params (might need to multiple A by 1e-43Msol?)\n",
    "    A, w, q, eta= kwargs['A'], kwargs['w'], kwargs['q'], kwargs['eta']\n",
    "    # convert units so rho_bar has units 1/pc^2 and x_tilde is unitless\n",
    "    r *= 1e3 #[kpc to pc]\n",
    "    Mbh *= 4.8e-14 #[Msol to pc]\n",
    "    A *= 10**-43 * (4.8e-14)**-2 #[Msol^-2 to pc^-2]\n",
    "    \n",
    "    x_tilde = r/Mbh\n",
    "    rho_bar = A*((1-(4*eta / x_tilde))**w)*(((4.14e11)/x_tilde)**q)\n",
    "    \n",
    "    rho = rho_bar*(10**delta)*((rho0/0.3)**alpha)*((Mbh/1e6)**beta)*((a/20)**gamma)\n",
    "    \n",
    "#     return np.log10(rho*1.264e15) # convert to GeV/cm^3\n",
    "\n",
    "    return rho"
   ]
  },
  {
   "cell_type": "code",
   "execution_count": 7,
   "metadata": {},
   "outputs": [
    {
     "data": {
      "text/plain": [
       "29153035.421937916"
      ]
     },
     "execution_count": 7,
     "metadata": {},
     "output_type": "execute_result"
    }
   ],
   "source": [
    "# rho effective takes a dictionary with scale params, profile params and fit params\n",
    "rho_NFW_Newton_params = {**scaleparameters, **NFWparameters, **NFWfit_newton}\n",
    "\n",
    "rho_effective(1, **rho_NFW_Newton_params)"
   ]
  },
  {
   "cell_type": "markdown",
   "metadata": {},
   "source": [
    "# Plotting and tests"
   ]
  },
  {
   "cell_type": "markdown",
   "metadata": {},
   "source": [
    "## Comparing NFW and Hernquist"
   ]
  },
  {
   "cell_type": "code",
   "execution_count": 8,
   "metadata": {},
   "outputs": [
    {
     "data": {
      "text/plain": [
       "<matplotlib.legend.Legend at 0x7ff5439acd90>"
      ]
     },
     "execution_count": 8,
     "metadata": {},
     "output_type": "execute_result"
    },
    {
     "data": {
      "image/png": "[encoded data removed]",
      "text/plain": [
       "<Figure size 432x288 with 1 Axes>"
      ]
     },
     "metadata": {
      "needs_background": "light"
     },
     "output_type": "display_data"
    }
   ],
   "source": [
    "# r_list = np.geomspace(1e-6,100,100)\n",
    "r_list = np.geomspace(1e-10,1,10000)\n",
    "r_list = np.log10(r_list/(9.608e-11))\n",
    "\n",
    "NFWparams = {**scale,**NFWparams}\n",
    "Hernparams = {**scale,**Hernquistparams}\n",
    "\n",
    "rhoNFW = np.array([[r, rho_DM_general(r, **NFWparams)] for r in r_list])\n",
    "rhoHern = np.array([[r, rho_DM_general(r, **Hernparams)] for r in r_list])\n",
    "\n",
    "plt.loglog(rhoNFW[:,0],rhoNFW[:,1], label='NFW')\n",
    "plt.loglog(rhoHern[:,0],rhoHern[:,1], label='Hernquist')\n",
    "\n",
    "plt.legend()"
   ]
  },
  {
   "cell_type": "markdown",
   "metadata": {},
   "source": [
    "## Plotting Effective Scaling Density"
   ]
  },
  {
   "cell_type": "code",
   "execution_count": 9,
   "metadata": {},
   "outputs": [
    {
     "data": {
      "text/plain": [
       "<matplotlib.legend.Legend at 0x7ff547e59650>"
      ]
     },
     "execution_count": 9,
     "metadata": {},
     "output_type": "execute_result"
    },
    {
     "data": {
      "image/png": "[encoded data removed]",
      "text/plain": [
       "<Figure size 432x288 with 1 Axes>"
      ]
     },
     "metadata": {
      "needs_background": "light"
     },
     "output_type": "display_data"
    }
   ],
   "source": [
    "r_list = np.geomspace(1e-10,1,10000)\n",
    "r_list = np.log10(r_list/(9.608e-11))\n",
    "\n",
    "rho_NFW_Newton_params = {**scaleparameters, **NFWparameters, **NFWfit_newton}\n",
    "rho_NFW_rel_params = {**scaleparameters, **NFWparameters, **NFWfit_rel}\n",
    "\n",
    "rhoNFW_Newton = np.array([[r, rho_effective(r, **rho_NFW_Newton_params)] for r in r_list])\n",
    "rhoNFW_rel = np.array([[r, rho_effective(r, **rho_NFW_rel_params)] for r in r_list])\n",
    "\n",
    "\n",
    "plt.plot(rhoNFW_Newton[:,0],rhoNFW_Newton[:,1], label='NFW Newton Eqn.7')\n",
    "plt.plot(rhoNFW_rel[:,0],rhoNFW_rel[:,1], label='NFW rel Eqn.7')\n",
    "#plt.loglog(rhoNFW[:,0],rhoNFW[:,1], label='NFW Eqn.1')\n",
    "plt.yscale('log')\n",
    "plt.xscale('log')\n",
    "plt.legend()"
   ]
  },
  {
   "cell_type": "code",
   "execution_count": null,
   "metadata": {},
   "outputs": [],
   "source": []
  }
 ],
 "metadata": {
  "kernelspec": {
   "display_name": "Python 3",
   "language": "python",
   "name": "python3"
  },
  "language_info": {
   "codemirror_mode": {
    "name": "ipython",
    "version": 3
   },
   "file_extension": ".py",
   "mimetype": "text/x-python",
   "name": "python",
   "nbconvert_exporter": "python",
   "pygments_lexer": "ipython3",
   "version": "3.7.6"
  },
  "toc": {
   "base_numbering": 1,
   "nav_menu": {},
   "number_sections": true,
   "sideBar": true,
   "skip_h1_title": false,
   "title_cell": "Table of Contents",
   "title_sidebar": "Contents",
   "toc_cell": false,
   "toc_position": {},
   "toc_section_display": true,
   "toc_window_display": false
  }
 },
 "nbformat": 4,
 "nbformat_minor": 4
}
