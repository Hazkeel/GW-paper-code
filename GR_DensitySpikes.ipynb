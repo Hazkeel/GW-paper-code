{
 "cells": [
  {
   "cell_type": "markdown",
   "metadata": {},
   "source": [
    "# Imports"
   ]
  },
  {
   "cell_type": "code",
   "execution_count": 1,
   "metadata": {},
   "outputs": [],
   "source": [
    "# System\n",
    "import sys\n",
    "\n",
    "# Plotting \n",
    "import matplotlib as mpl\n",
    "import matplotlib.pyplot as plt\n",
    "\n",
    "# math and array tools \n",
    "import numpy as np\n",
    "import pandas as pd\n",
    "from scipy import interpolate\n",
    "import scipy.integrate as integrate\n",
    "from scipy import optimize\n",
    "from itertools import permutations\n",
    "\n",
    "# Access local directories\n",
    "import os, glob\n",
    "\n",
    "# Timing\n",
    "import time as t"
   ]
  },
  {
   "cell_type": "markdown",
   "metadata": {},
   "source": [
    "# Plot controls"
   ]
  },
  {
   "cell_type": "code",
   "execution_count": 2,
   "metadata": {},
   "outputs": [],
   "source": [
    "plt.rcParams['figure.figsize'] = [12, 8]"
   ]
  },
  {
   "cell_type": "markdown",
   "metadata": {},
   "source": [
    "# Density Profiles"
   ]
  },
  {
   "cell_type": "markdown",
   "metadata": {},
   "source": [
    "## Global Varibles"
   ]
  },
  {
   "cell_type": "code",
   "execution_count": 3,
   "metadata": {},
   "outputs": [],
   "source": [
    "# unit conversions\n",
    "hz_to_invpc = 1.029e8\n",
    "s_to_pc = 9.716e-9\n",
    "m_to_pc = 3.241e-17\n",
    "solar_mass_to_pc = 4.8e-14\n",
    "g_cm3_to_invpc2 = 7.072e8\n",
    "year_to_pc = 0.3064"
   ]
  },
  {
   "cell_type": "code",
   "execution_count": 4,
   "metadata": {},
   "outputs": [
    {
     "data": {
      "text/plain": [
       "4.8e-09"
      ]
     },
     "execution_count": 4,
     "metadata": {},
     "output_type": "execute_result"
    }
   ],
   "source": [
    "1e5 *solar_mass_to_pc"
   ]
  },
  {
   "cell_type": "markdown",
   "metadata": {},
   "source": [
    "## Generic Density Distribution"
   ]
  },
  {
   "cell_type": "code",
   "execution_count": 3,
   "metadata": {},
   "outputs": [],
   "source": [
    "scale = {'a':0.01, 'rho0':0.3}\n",
    "NFWparams = {'alpha':1,'beta':3,'gamma':1}\n",
    "Hernquistparams = {'alpha':1,'beta':4,'gamma':1}"
   ]
  },
  {
   "cell_type": "code",
   "execution_count": 4,
   "metadata": {},
   "outputs": [],
   "source": [
    "def rho_DM_general(r, **kwargs):\n",
    "    a, rho0 = kwargs['a'], kwargs['rho0']\n",
    "    alpha, beta, gamma = kwargs['alpha'], kwargs['beta'], kwargs['gamma']\n",
    "    # x is dimensionless\n",
    "    x = r/a\n",
    "    \n",
    "    rho = rho0*(x**(-gamma))*(1+(x**alpha))**((gamma-beta)/alpha)\n",
    "    \n",
    "    # convert to pc^-2\n",
    "#     rho *= 1.264e-15 #[GeV/cm3 to pc-2]\n",
    "    return rho"
   ]
  },
  {
   "cell_type": "markdown",
   "metadata": {},
   "source": [
    "# Spike Density from Eda paper"
   ]
  },
  {
   "cell_type": "code",
   "execution_count": 6,
   "metadata": {},
   "outputs": [],
   "source": [
    "def get_rsp(Mbh=1e3):\n",
    "    # use equation M(<rh) = int_0^rh 4pi rho_dm(r)r^2 = 2M_bh from arxiv:1408.3534\n",
    "    \n",
    "    def f(rh):\n",
    "        rsp = 0.2*rh\n",
    "        LHS = integrate.quad(lambda r: 4*np.pi*(rho_spike(r, rsp=rsp)*2.938e64)*r**2, 0, rh)[0] # convert desnity to GeV/kpc^3\n",
    "        RHS = 2*Mbh * 1.11543e57 # convert Msol to GeV/c^2\n",
    "        return LHS-RHS\n",
    "    \n",
    "    rh = optimize.newton(f, 1e-3)\n",
    "    return 0.2*rh # rsp \n",
    "\n",
    "def get_Rs(Mbh=1e3):\n",
    "    G = 4.3e-3 *1e-3 # [kpc/Msol * (km/s)^2]\n",
    "    c = 3e5 #[km/s]\n",
    "    Rs = 2*G*Mbh / c**2\n",
    "    return Rs\n",
    "\n",
    "def rho_nfw(r, rhos=3.8e-22, rs=0.0231):\n",
    "    x = r/rs\n",
    "    rho = rhos / (x * (1+x)**2)\n",
    "    # convert to GeV/cm^3 from g/cm^3\n",
    "    rho *= 5.61e23\n",
    "    return rho\n",
    "\n",
    "\n",
    "def rho_spike(r, alpha_ini=1., rsp=0.54e-3):\n",
    "    # rhosp in units Msol/pc^3\n",
    "#     rhosp *= 37.96 #Msol/pc^3 to GeV/cm^3\n",
    "    rhosp = rho_nfw(rsp)\n",
    "    # alpha is dimensionless\n",
    "    alpha = (9.-2.*alpha_ini)/(4.-alpha_ini)\n",
    "\n",
    "    rho = rhosp * (rsp/r)**alpha\n",
    "    \n",
    "    Rs = get_Rs(Mbh=1e5)\n",
    "    rho *= (1-4*(Rs/r))**3\n",
    "    \n",
    "    return np.where(r < rsp, rho, rho_nfw(r))"
   ]
  },
  {
   "cell_type": "code",
   "execution_count": 33,
   "metadata": {},
   "outputs": [
    {
     "data": {
      "text/plain": [
       "(2.7561325909941188e+63, 2.6820730490209236e+55)"
      ]
     },
     "execution_count": 33,
     "metadata": {},
     "output_type": "execute_result"
    }
   ],
   "source": [
    "integrate.quad(lambda r: 4*np.pi*(rho_spike(r, rsp=rsp)*2.938e64)*r**2, 0, 1)"
   ]
  },
  {
   "cell_type": "code",
   "execution_count": 34,
   "metadata": {},
   "outputs": [
    {
     "data": {
      "text/plain": [
       "0.0047907321015407105"
      ]
     },
     "execution_count": 34,
     "metadata": {},
     "output_type": "execute_result"
    }
   ],
   "source": [
    "rs"
   ]
  },
  {
   "cell_type": "code",
   "execution_count": 44,
   "metadata": {},
   "outputs": [
    {
     "data": {
      "text/plain": [
       "0.004790732101656293"
      ]
     },
     "execution_count": 44,
     "metadata": {},
     "output_type": "execute_result"
    }
   ],
   "source": [
    "rsp = get_rsp(Mbh=1e5)\n",
    "rsp"
   ]
  },
  {
   "cell_type": "code",
   "execution_count": 10,
   "metadata": {},
   "outputs": [
    {
     "data": {
      "text/plain": [
       "[<matplotlib.lines.Line2D at 0x7fe41e0cb0d0>]"
      ]
     },
     "execution_count": 10,
     "metadata": {},
     "output_type": "execute_result"
    },
    {
     "data": {
      "image/png": "[encoded data removed]",
      "text/plain": [
       "<Figure size 864x576 with 1 Axes>"
      ]
     },
     "metadata": {
      "needs_background": "light"
     },
     "output_type": "display_data"
    }
   ],
   "source": [
    "r_list = np.geomspace(1e-12,1e3,1000)\n",
    "\n",
    "plt.loglog(r_list, rho_spike(r_list, rsp=10e-3))"
   ]
  },
  {
   "cell_type": "markdown",
   "metadata": {},
   "source": [
    "## Effective Scaling GR Density"
   ]
  },
  {
   "cell_type": "code",
   "execution_count": 7,
   "metadata": {},
   "outputs": [],
   "source": [
    "scaleparameters={\n",
    "    #'a':0.01, #[kpc]\n",
    "    #'a':20., #[kpc]\n",
    "    #'rho0':0.3, #[GeV/cm^3]\n",
    "    'a':0.231,\n",
    "    'rho0':3.8e-22 * 5.61e23, #[g/cm^3 to GeV/cm^3],\n",
    "    'Mbh':1e5 #[Msol]    \n",
    "}\n",
    "NFWparameters={\n",
    "    'alpha':0.331,\n",
    "    'beta':-1.66,\n",
    "    'gamma':0.32,\n",
    "    'delta':-0.000282\n",
    "}\n",
    "Hernparameters={\n",
    "    'alpha':0.335,\n",
    "    'beta':-1.67,\n",
    "    'gamma':0.31,\n",
    "    'delta':-0.025\n",
    "}\n",
    "NFWfit_newton={\n",
    "    'eta':2,\n",
    "    'A':1.60,\n",
    "    'w':2.18,\n",
    "    'q':1.98\n",
    "}\n",
    "NFWfit_rel={\n",
    "    'eta':1,\n",
    "    'A':6.42,\n",
    "    'w':1.82,\n",
    "    'q':1.91\n",
    "}\n",
    "Hernfit_newton={\n",
    "    'eta':2,\n",
    "    'A':4.87,\n",
    "    'w':2.22,\n",
    "    'q':1.93\n",
    "}\n",
    "Hernfit_rel={\n",
    "    'eta':1,\n",
    "    'A':7.90,\n",
    "    'w':1.83,\n",
    "    'q':1.90\n",
    "}"
   ]
  },
  {
   "cell_type": "code",
   "execution_count": 11,
   "metadata": {},
   "outputs": [],
   "source": [
    "def rho_effective(r, **kwargs):\n",
    "    # scale params\n",
    "    rho0, Mbh, a = kwargs['rho0'], kwargs['Mbh'], kwargs['a']\n",
    "    # profile params\n",
    "    alpha, beta, gamma, delta = kwargs['alpha'], kwargs['beta'], kwargs['gamma'], kwargs['delta']\n",
    "    # fit params \n",
    "    A, w, q, eta= kwargs['A'], kwargs['w'], kwargs['q'], kwargs['eta']\n",
    "   \n",
    "    # convert units so rho_bar has units 1/pc^2 and x_tilde is unitless\n",
    "    r *= 1e3 #[kpc to pc]\n",
    "    A *= 1e-43 / solar_mass_to_pc /solar_mass_to_pc #[Msol^-2 to pc^-2: 1/2.29e-27]\n",
    "    x_tilde = r / (Mbh * solar_mass_to_pc) # convert Mbh form Msol to pc\n",
    "    \n",
    "    rho_bar = A*(1.- 4.*eta / x_tilde)**w *(4.17*1e11/x_tilde)**q\n",
    "    \n",
    "    rho = rho_bar*(10**delta)*((rho0/0.3)**alpha)*((Mbh/1e6)**beta)*((a/20.)**gamma)\n",
    "    \n",
    "    rho*=7.934e14 # convert to GeV/cm^3 from 1/pc^2\n",
    "\n",
    "    return rho"
   ]
  },
  {
   "cell_type": "code",
   "execution_count": 12,
   "metadata": {},
   "outputs": [
    {
     "name": "stdout",
     "output_type": "stream",
     "text": [
      "2002.1145404493247\n",
      "0.1\n"
     ]
    }
   ],
   "source": [
    "# rho effective takes a dictionary with scale params, profile params and fit params\n",
    "rho_NFW_Newton_params = {**scaleparameters, **NFWparameters, **NFWfit_newton}\n",
    "\n",
    "r = 0.1\n",
    "print(rho_effective(r, **rho_NFW_Newton_params))\n",
    "print(r)"
   ]
  },
  {
   "cell_type": "markdown",
   "metadata": {},
   "source": [
    "# Plotting and tests"
   ]
  },
  {
   "cell_type": "markdown",
   "metadata": {},
   "source": [
    "## Comparing NFW and Hernquist"
   ]
  },
  {
   "cell_type": "code",
   "execution_count": null,
   "metadata": {},
   "outputs": [],
   "source": [
    "# r_list = np.geomspace(1e-6,100,100)\n",
    "r_list = np.geomspace(1e-11,1,10000)\n",
    "\n",
    "\n",
    "NFWparams = {**scale,**NFWparams}\n",
    "Hernparams = {**scale,**Hernquistparams}\n",
    "\n",
    "rhoNFW = np.array([[r, rho_DM_general(r, **NFWparams)] for r in r_list])\n",
    "rhoHern = np.array([[r, rho_DM_general(r, **Hernparams)] for r in r_list])\n",
    "\n",
    "plt.loglog(np.log10(rhoNFW[:,0]/(9.608e-11)),np.log10(rhoNFW[:,1]), label='NFW')\n",
    "plt.loglog(np.log10(rhoHern[:,0]/(9.608e-11)),np.log10(rhoHern[:,1]), label='Hernquist')\n",
    "# plt.xscale('log')\n",
    "plt.legend()"
   ]
  },
  {
   "cell_type": "markdown",
   "metadata": {},
   "source": [
    "## Plotting Effective Scaling Density"
   ]
  },
  {
   "cell_type": "markdown",
   "metadata": {},
   "source": [
    "## Figure 1 plot a"
   ]
  },
  {
   "cell_type": "code",
   "execution_count": null,
   "metadata": {},
   "outputs": [],
   "source": [
    "# r is entered in kpc\n",
    "r_list = np.geomspace(1e-11,1e3,100000)\n",
    "\n",
    "rho_NFW_Newton_params = {**scaleparameters, **NFWparameters, **NFWfit_newton}\n",
    "rho_NFW_rel_params = {**scaleparameters, **NFWparameters, **NFWfit_rel}\n",
    "\n",
    "#take log after \n",
    "rhoNFW_Newton = np.array([[r, rho_effective(r, **rho_NFW_Newton_params)] for r in r_list])\n",
    "rhoNFW_rel = np.array([[r, rho_effective(r, **rho_NFW_rel_params)] for r in r_list])\n",
    "\n",
    "\n",
    "plt.plot(np.log10(rhoNFW_Newton[:,0]/(9.608e-11)),np.log10(rhoNFW_Newton[:,1]), label='NFW (Newtonian) Eqn.7')\n",
    "plt.plot(np.log10(rhoNFW_rel[:,0]/(9.608e-11)),np.log10(rhoNFW_rel[:,1]), label='NFW (relativistic) Eqn.7')\n",
    "\n",
    "#plt.loglog(rhoNFW[:,0],rhoNFW[:,1], label='NFW Eqn.1')\n",
    "# plt.yscale('log')\n",
    "# plt.xscale('log')\n",
    "plt.xlim(0,7)\n",
    "plt.ylim(10,20)\n",
    "plt.legend()"
   ]
  },
  {
   "cell_type": "markdown",
   "metadata": {},
   "source": [
    "## Figure 1 plot b"
   ]
  },
  {
   "cell_type": "code",
   "execution_count": 26,
   "metadata": {},
   "outputs": [
    {
     "data": {
      "text/plain": [
       "<matplotlib.legend.Legend at 0x7fd104f9ea90>"
      ]
     },
     "execution_count": 26,
     "metadata": {},
     "output_type": "execute_result"
    },
    {
     "data": {
      "image/png": "[encoded data removed]",
      "text/plain": [
       "<Figure size 864x576 with 1 Axes>"
      ]
     },
     "metadata": {
      "needs_background": "light"
     },
     "output_type": "display_data"
    }
   ],
   "source": [
    "r_list = np.geomspace(1e-11,1,10000)\n",
    "#r_list = np.log10(r_list/(9.608e-11))\n",
    "\n",
    "rho_NFW_Hernquist_params = {**scaleparameters, **Hernparameters, **Hernfit_rel}\n",
    "rho_NFW_rel_params = {**scaleparameters, **NFWparameters, **NFWfit_rel}\n",
    "\n",
    "#take log after \n",
    "rhoHern_rel = np.array([[r, rho_effective(r, **rho_NFW_Hernquist_params)] for r in r_list])\n",
    "rhoNFW_rel = np.array([[r, rho_effective(r, **rho_NFW_rel_params)] for r in r_list])\n",
    "\n",
    "\n",
    "plt.loglog(rhoHern_rel[:,0]/(9.608e-11),rhoHern_rel[:,1], label='Hernquist (relativistic) Eqn.7')\n",
    "plt.loglog(rhoNFW_rel[:,0]/(9.608e-11),rhoNFW_rel[:,1], label='NFW (relativistic) Eqn.7')\n",
    "#plt.loglog(rhoNFW[:,0],rhoNFW[:,1], label='NFW Eqn.1')\n",
    "# plt.yscale('log')\n",
    "#plt.xscale('log')\n",
    "# plt.xlim(-2,7)\n",
    "# plt.ylim(10,25)\n",
    "plt.legend()"
   ]
  },
  {
   "cell_type": "markdown",
   "metadata": {},
   "source": [
    "## Rho spike from Eda paper"
   ]
  },
  {
   "cell_type": "code",
   "execution_count": 16,
   "metadata": {},
   "outputs": [
    {
     "name": "stderr",
     "output_type": "stream",
     "text": [
      "/Users/adamsmith/opt/anaconda3/lib/python3.7/site-packages/ipykernel_launcher.py:14: RuntimeWarning: invalid value encountered in double_scalars\n",
      "  \n"
     ]
    },
    {
     "data": {
      "image/png": "[encoded data removed]",
      "text/plain": [
       "<Figure size 864x576 with 1 Axes>"
      ]
     },
     "metadata": {
      "needs_background": "light"
     },
     "output_type": "display_data"
    }
   ],
   "source": [
    "# r is entered in kpc\n",
    "r_list = np.geomspace(1e-13,1,10000)\n",
    "\n",
    "Rs = get_Rs(Mbh=1e3)\n",
    "# Rs = 1\n",
    "\n",
    "rho_NFW_rel_params = {**scaleparameters, **NFWparameters, **NFWfit_rel}\n",
    "rhoNFW_Newton = np.array([[r/Rs, rho_effective(r, **rho_NFW_Newton_params)] for r in r_list])\n",
    "\n",
    "rsp = get_rsp(Mbh=1e3)\n",
    "\n",
    "plt.loglog((rhoNFW_Newton[:,0]), (rhoNFW_Newton[:,1]), label='NFW (Relativistic)')\n",
    "plt.loglog(r_list/Rs, (rho_spike(r_list, rsp=rsp)), label='rho spike Eda')\n",
    "\n",
    "plt.axvline(x=0.01/Rs)\n",
    "\n",
    "plt.xlabel('r/Rs')\n",
    "plt.ylabel(r'$\\rho$ [$GeV/cm^3$]')\n",
    "plt.title(r'Density profiles for $Mbh=10^5M_{\\odot}$')\n",
    "# plt.xlim(1e-1,1e11)\n",
    "plt.legend(); plt.grid()"
   ]
  },
  {
   "cell_type": "raw",
   "metadata": {},
   "source": [
    "def rho_GS(r):\n",
    "    G = 6.67e-11\n",
    "    m = 1e6\n",
    "    rho = r**(-3/2)*(1-(8*G*m/r)**(3/2))\n",
    "    \n",
    "    return rho"
   ]
  },
  {
   "cell_type": "code",
   "execution_count": 12,
   "metadata": {},
   "outputs": [
    {
     "name": "stderr",
     "output_type": "stream",
     "text": [
      "/Users/adamsmith/opt/anaconda3/lib/python3.7/site-packages/ipykernel_launcher.py:4: RuntimeWarning: invalid value encountered in log10\n",
      "  after removing the cwd from sys.path.\n"
     ]
    },
    {
     "data": {
      "text/plain": [
       "[<matplotlib.lines.Line2D at 0x7fd104be1d10>]"
      ]
     },
     "execution_count": 12,
     "metadata": {},
     "output_type": "execute_result"
    },
    {
     "data": {
      "image/png": "[encoded data removed]",
      "text/plain": [
       "<Figure size 864x576 with 1 Axes>"
      ]
     },
     "metadata": {
      "needs_background": "light"
     },
     "output_type": "display_data"
    }
   ],
   "source": [
    "r = np.geomspace(1e-10, 1e3, 1000)\n",
    "scale = 9.608e-11\n",
    "\n",
    "plt.plot(np.log10(r/scale), np.log10(rho_GS(r)))"
   ]
  },
  {
   "cell_type": "markdown",
   "metadata": {},
   "source": [
    "# GS and Eda Spike densities"
   ]
  },
  {
   "cell_type": "code",
   "execution_count": null,
   "metadata": {},
   "outputs": [],
   "source": [
    "# r is in pc \n",
    "def rho_spike_eda(r, alpha_ini=1, rhosp=226, rsp=0.54):\n",
    "    rhosp *= 37.96 # [Msol/pc^3] to [GeV/cm^3]\n",
    "    alpha = (9-2*alpha_ini)/(4-alpha_ini)\n",
    "    # compatability with arrays\n",
    "    try:\n",
    "        if r.ndim > 0:\n",
    "            rho = np.array([rho_spike(r) for r in r])\n",
    "            return rho\n",
    "    except: pass\n",
    "\n",
    "    rho = rhosp * (rsp/r)**alpha\n",
    "    \n",
    "    return rho if r < rsp else rho_nfw(r)\n",
    "\n",
    "def rho_spike_gs(r, alpha_ini=1, rhosp=226, rsp=0.54):\n",
    "    Mbh = 1e3 # [Msol]\n",
    "    G = 4.3e-3 # [pc/Msol * (km/s)^2]\n",
    "    c = 3e5 #[km/s]\n",
    "    Rs = 2*G*Mbh / c**2\n",
    "    \n",
    "    rho0 = 3.8e-22 * 5.62e23 # g/cm^3 to GeV/cm^3 from Eda\n",
    "    r0 = 23.1 # pc from Eda\n",
    "    alpha = (9-2*alpha_ini)/(4-alpha_ini)\n",
    "    rhoR = rho0*(rsp/r0)**(-alpha)\n",
    "    \n",
    "    def g_alpha(r):\n",
    "        return (1-4*(Rs/r))**3\n",
    "    \n",
    "    rho = rhoR*g_alpha(r)*(rsp/r)**alpha\n",
    "    \n",
    "    return rho\n",
    "    \n",
    "    "
   ]
  },
  {
   "cell_type": "code",
   "execution_count": null,
   "metadata": {},
   "outputs": [],
   "source": [
    "Gm = 4.3e-3 * 1e3 / 3e5**2\n",
    "\n",
    "r = np.linspace(10e-11, 80*Gm, 100) /Gm\n",
    "\n",
    "rho = np.array([rho_spike_gs(r) for r in r])\n",
    "rhoeda = np.array([rho_spike_eda(r) for r in r])\n",
    "\n",
    "plt.loglog(r, rho)\n",
    "plt.loglog(r, rhoeda)"
   ]
  },
  {
   "cell_type": "code",
   "execution_count": null,
   "metadata": {},
   "outputs": [],
   "source": [
    "Gm"
   ]
  },
  {
   "cell_type": "code",
   "execution_count": null,
   "metadata": {},
   "outputs": [],
   "source": []
  }
 ],
 "metadata": {
  "kernelspec": {
   "display_name": "Python 3",
   "language": "python",
   "name": "python3"
  },
  "language_info": {
   "codemirror_mode": {
    "name": "ipython",
    "version": 3
   },
   "file_extension": ".py",
   "mimetype": "text/x-python",
   "name": "python",
   "nbconvert_exporter": "python",
   "pygments_lexer": "ipython3",
   "version": "3.7.6"
  },
  "toc": {
   "base_numbering": 1,
   "nav_menu": {},
   "number_sections": true,
   "sideBar": true,
   "skip_h1_title": false,
   "title_cell": "Table of Contents",
   "title_sidebar": "Contents",
   "toc_cell": false,
   "toc_position": {
    "height": "calc(100% - 180px)",
    "left": "10px",
    "top": "150px",
    "width": "165px"
   },
   "toc_section_display": true,
   "toc_window_display": false
  }
 },
 "nbformat": 4,
 "nbformat_minor": 4
}
